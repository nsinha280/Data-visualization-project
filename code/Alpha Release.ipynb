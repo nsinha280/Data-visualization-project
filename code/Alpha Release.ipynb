{
 "cells": [
  {
   "cell_type": "markdown",
   "metadata": {},
   "source": [
    "# Visualization on College Completion Dataset\n"
   ]
  },
  {
   "cell_type": "markdown",
   "metadata": {},
   "source": [
    "## John Rumpel and Nimesh Sinha"
   ]
  },
  {
   "cell_type": "code",
   "execution_count": 1,
   "metadata": {},
   "outputs": [
    {
     "data": {
      "text/html": [
       "<script>requirejs.config({paths: { 'plotly': ['https://cdn.plot.ly/plotly-latest.min']},});if(!window.Plotly) {{require(['plotly'],function(plotly) {window.Plotly=plotly;});}}</script>"
      ],
      "text/vnd.plotly.v1+html": [
       "<script>requirejs.config({paths: { 'plotly': ['https://cdn.plot.ly/plotly-latest.min']},});if(!window.Plotly) {{require(['plotly'],function(plotly) {window.Plotly=plotly;});}}</script>"
      ]
     },
     "metadata": {},
     "output_type": "display_data"
    }
   ],
   "source": [
    "import pandas as pd\n",
    "import plotly.offline as offline\n",
    "import plotly\n",
    "import pandas as pd\n",
    "import plotly.plotly as py\n",
    "import plotly.graph_objs as go\n",
    "from bokeh.palettes import Spectral11\n",
    "from bokeh.plotting import figure, show, output_file\n",
    "import plotly.offline as offline\n",
    "import plotly.offline as offline\n",
    "from plotly.offline import init_notebook_mode, iplot\n",
    "from IPython.display import display, HTML\n",
    "init_notebook_mode(connected=True)\n",
    "import plotly.plotly as py\n",
    "import plotly.graph_objs as go"
   ]
  },
  {
   "cell_type": "markdown",
   "metadata": {},
   "source": [
    "If you pull the github before running this notebook, you'll have the data to run the code for yourself."
   ]
  },
  {
   "cell_type": "code",
   "execution_count": 2,
   "metadata": {},
   "outputs": [],
   "source": [
    "data= pd.read_csv('cc_institution_details.csv',encoding = 'latin1')"
   ]
  },
  {
   "cell_type": "code",
   "execution_count": 3,
   "metadata": {
    "scrolled": true
   },
   "outputs": [
    {
     "data": {
      "text/html": [
       "<div>\n",
       "<style scoped>\n",
       "    .dataframe tbody tr th:only-of-type {\n",
       "        vertical-align: middle;\n",
       "    }\n",
       "\n",
       "    .dataframe tbody tr th {\n",
       "        vertical-align: top;\n",
       "    }\n",
       "\n",
       "    .dataframe thead th {\n",
       "        text-align: right;\n",
       "    }\n",
       "</style>\n",
       "<table border=\"1\" class=\"dataframe\">\n",
       "  <thead>\n",
       "    <tr style=\"text-align: right;\">\n",
       "      <th></th>\n",
       "      <th>unitid</th>\n",
       "      <th>chronname</th>\n",
       "      <th>city</th>\n",
       "      <th>state</th>\n",
       "      <th>level</th>\n",
       "      <th>control</th>\n",
       "      <th>basic</th>\n",
       "      <th>hbcu</th>\n",
       "      <th>flagship</th>\n",
       "      <th>long_x</th>\n",
       "      <th>...</th>\n",
       "      <th>vsa_grad_after6_transfer</th>\n",
       "      <th>vsa_grad_elsewhere_after6_transfer</th>\n",
       "      <th>vsa_enroll_after6_transfer</th>\n",
       "      <th>vsa_enroll_elsewhere_after6_transfer</th>\n",
       "      <th>similar</th>\n",
       "      <th>state_sector_ct</th>\n",
       "      <th>carnegie_ct</th>\n",
       "      <th>counted_pct</th>\n",
       "      <th>nicknames</th>\n",
       "      <th>cohort_size</th>\n",
       "    </tr>\n",
       "  </thead>\n",
       "  <tbody>\n",
       "    <tr>\n",
       "      <th>0</th>\n",
       "      <td>100654</td>\n",
       "      <td>Alabama A&amp;M University</td>\n",
       "      <td>Normal</td>\n",
       "      <td>Alabama</td>\n",
       "      <td>4-year</td>\n",
       "      <td>Public</td>\n",
       "      <td>Masters Colleges and Universities--larger prog...</td>\n",
       "      <td>X</td>\n",
       "      <td>NaN</td>\n",
       "      <td>-86.568502</td>\n",
       "      <td>...</td>\n",
       "      <td>36.4</td>\n",
       "      <td>5.6</td>\n",
       "      <td>17.2</td>\n",
       "      <td>11.1</td>\n",
       "      <td>232937|100724|405997|113607|139533|144005|2285...</td>\n",
       "      <td>13</td>\n",
       "      <td>386</td>\n",
       "      <td>99.7|07</td>\n",
       "      <td>NaN</td>\n",
       "      <td>882.0</td>\n",
       "    </tr>\n",
       "    <tr>\n",
       "      <th>1</th>\n",
       "      <td>100663</td>\n",
       "      <td>University of Alabama at Birmingham</td>\n",
       "      <td>Birmingham</td>\n",
       "      <td>Alabama</td>\n",
       "      <td>4-year</td>\n",
       "      <td>Public</td>\n",
       "      <td>Research Universities--very high research acti...</td>\n",
       "      <td>NaN</td>\n",
       "      <td>NaN</td>\n",
       "      <td>-86.809170</td>\n",
       "      <td>...</td>\n",
       "      <td>NaN</td>\n",
       "      <td>NaN</td>\n",
       "      <td>NaN</td>\n",
       "      <td>NaN</td>\n",
       "      <td>196060|180461|201885|145600|209542|236939|1268...</td>\n",
       "      <td>13</td>\n",
       "      <td>106</td>\n",
       "      <td>56.0|07</td>\n",
       "      <td>UAB</td>\n",
       "      <td>1376.0</td>\n",
       "    </tr>\n",
       "    <tr>\n",
       "      <th>2</th>\n",
       "      <td>100690</td>\n",
       "      <td>Amridge University</td>\n",
       "      <td>Montgomery</td>\n",
       "      <td>Alabama</td>\n",
       "      <td>4-year</td>\n",
       "      <td>Private not-for-profit</td>\n",
       "      <td>Baccalaureate Colleges--Arts &amp; Sciences</td>\n",
       "      <td>NaN</td>\n",
       "      <td>NaN</td>\n",
       "      <td>-86.174010</td>\n",
       "      <td>...</td>\n",
       "      <td>NaN</td>\n",
       "      <td>NaN</td>\n",
       "      <td>NaN</td>\n",
       "      <td>NaN</td>\n",
       "      <td>217925|441511|205124|247825|197647|221856|1353...</td>\n",
       "      <td>16</td>\n",
       "      <td>252</td>\n",
       "      <td>100.0|07</td>\n",
       "      <td>NaN</td>\n",
       "      <td>3.0</td>\n",
       "    </tr>\n",
       "    <tr>\n",
       "      <th>3</th>\n",
       "      <td>100706</td>\n",
       "      <td>University of Alabama at Huntsville</td>\n",
       "      <td>Huntsville</td>\n",
       "      <td>Alabama</td>\n",
       "      <td>4-year</td>\n",
       "      <td>Public</td>\n",
       "      <td>Research Universities--very high research acti...</td>\n",
       "      <td>NaN</td>\n",
       "      <td>NaN</td>\n",
       "      <td>-86.638420</td>\n",
       "      <td>...</td>\n",
       "      <td>0.0</td>\n",
       "      <td>0.0</td>\n",
       "      <td>0.0</td>\n",
       "      <td>0.0</td>\n",
       "      <td>232186|133881|196103|196413|207388|171128|1900...</td>\n",
       "      <td>13</td>\n",
       "      <td>106</td>\n",
       "      <td>43.1|07</td>\n",
       "      <td>UAH</td>\n",
       "      <td>759.0</td>\n",
       "    </tr>\n",
       "    <tr>\n",
       "      <th>4</th>\n",
       "      <td>100724</td>\n",
       "      <td>Alabama State University</td>\n",
       "      <td>Montgomery</td>\n",
       "      <td>Alabama</td>\n",
       "      <td>4-year</td>\n",
       "      <td>Public</td>\n",
       "      <td>Masters Colleges and Universities--larger prog...</td>\n",
       "      <td>X</td>\n",
       "      <td>NaN</td>\n",
       "      <td>-86.295677</td>\n",
       "      <td>...</td>\n",
       "      <td>NaN</td>\n",
       "      <td>NaN</td>\n",
       "      <td>NaN</td>\n",
       "      <td>NaN</td>\n",
       "      <td>100654|232937|242617|243197|144005|241739|2354...</td>\n",
       "      <td>13</td>\n",
       "      <td>386</td>\n",
       "      <td>88.0|07</td>\n",
       "      <td>ASU</td>\n",
       "      <td>1351.0</td>\n",
       "    </tr>\n",
       "  </tbody>\n",
       "</table>\n",
       "<p>5 rows × 62 columns</p>\n",
       "</div>"
      ],
      "text/plain": [
       "   unitid                            chronname        city    state   level  \\\n",
       "0  100654               Alabama A&M University      Normal  Alabama  4-year   \n",
       "1  100663  University of Alabama at Birmingham  Birmingham  Alabama  4-year   \n",
       "2  100690                   Amridge University  Montgomery  Alabama  4-year   \n",
       "3  100706  University of Alabama at Huntsville  Huntsville  Alabama  4-year   \n",
       "4  100724             Alabama State University  Montgomery  Alabama  4-year   \n",
       "\n",
       "                  control                                              basic  \\\n",
       "0                  Public  Masters Colleges and Universities--larger prog...   \n",
       "1                  Public  Research Universities--very high research acti...   \n",
       "2  Private not-for-profit            Baccalaureate Colleges--Arts & Sciences   \n",
       "3                  Public  Research Universities--very high research acti...   \n",
       "4                  Public  Masters Colleges and Universities--larger prog...   \n",
       "\n",
       "  hbcu flagship     long_x     ...       vsa_grad_after6_transfer  \\\n",
       "0    X      NaN -86.568502     ...                           36.4   \n",
       "1  NaN      NaN -86.809170     ...                            NaN   \n",
       "2  NaN      NaN -86.174010     ...                            NaN   \n",
       "3  NaN      NaN -86.638420     ...                            0.0   \n",
       "4    X      NaN -86.295677     ...                            NaN   \n",
       "\n",
       "  vsa_grad_elsewhere_after6_transfer  vsa_enroll_after6_transfer  \\\n",
       "0                                5.6                        17.2   \n",
       "1                                NaN                         NaN   \n",
       "2                                NaN                         NaN   \n",
       "3                                0.0                         0.0   \n",
       "4                                NaN                         NaN   \n",
       "\n",
       "   vsa_enroll_elsewhere_after6_transfer  \\\n",
       "0                                  11.1   \n",
       "1                                   NaN   \n",
       "2                                   NaN   \n",
       "3                                   0.0   \n",
       "4                                   NaN   \n",
       "\n",
       "                                             similar  state_sector_ct  \\\n",
       "0  232937|100724|405997|113607|139533|144005|2285...               13   \n",
       "1  196060|180461|201885|145600|209542|236939|1268...               13   \n",
       "2  217925|441511|205124|247825|197647|221856|1353...               16   \n",
       "3  232186|133881|196103|196413|207388|171128|1900...               13   \n",
       "4  100654|232937|242617|243197|144005|241739|2354...               13   \n",
       "\n",
       "   carnegie_ct  counted_pct  nicknames  cohort_size  \n",
       "0          386      99.7|07        NaN        882.0  \n",
       "1          106      56.0|07        UAB       1376.0  \n",
       "2          252     100.0|07        NaN          3.0  \n",
       "3          106      43.1|07        UAH        759.0  \n",
       "4          386      88.0|07        ASU       1351.0  \n",
       "\n",
       "[5 rows x 62 columns]"
      ]
     },
     "execution_count": 3,
     "metadata": {},
     "output_type": "execute_result"
    }
   ],
   "source": [
    "data.head()"
   ]
  },
  {
   "cell_type": "markdown",
   "metadata": {},
   "source": [
    "This is what our data looks like. The data has 3,800 degree-granting institutions in the United States (excluding territories) that reported a first-time, full-time degree-seeking undergraduate cohort, had a total of at least 100 students at the undergraduate level in 2013, and awarded undergraduate degrees between 2008 and 2013. As you can see there's a lot of information with the 62 columns, so there is a lot we could explore, aside from the fact there are also a lot of missing values.\n"
   ]
  },
  {
   "cell_type": "code",
   "execution_count": 4,
   "metadata": {},
   "outputs": [],
   "source": [
    "df = data.groupby(['state'])['grad_100_value'].mean().reset_index()"
   ]
  },
  {
   "cell_type": "code",
   "execution_count": 5,
   "metadata": {},
   "outputs": [],
   "source": [
    "df['grad_100_value'] = ['%.1f' % round(x, 1) for x in df['grad_100_value']]"
   ]
  },
  {
   "cell_type": "code",
   "execution_count": 6,
   "metadata": {},
   "outputs": [
    {
     "data": {
      "text/html": [
       "<div>\n",
       "<style scoped>\n",
       "    .dataframe tbody tr th:only-of-type {\n",
       "        vertical-align: middle;\n",
       "    }\n",
       "\n",
       "    .dataframe tbody tr th {\n",
       "        vertical-align: top;\n",
       "    }\n",
       "\n",
       "    .dataframe thead th {\n",
       "        text-align: right;\n",
       "    }\n",
       "</style>\n",
       "<table border=\"1\" class=\"dataframe\">\n",
       "  <thead>\n",
       "    <tr style=\"text-align: right;\">\n",
       "      <th></th>\n",
       "      <th>state</th>\n",
       "      <th>grad_100_value</th>\n",
       "    </tr>\n",
       "  </thead>\n",
       "  <tbody>\n",
       "    <tr>\n",
       "      <th>0</th>\n",
       "      <td>Alabama</td>\n",
       "      <td>16.8</td>\n",
       "    </tr>\n",
       "    <tr>\n",
       "      <th>1</th>\n",
       "      <td>Alaska</td>\n",
       "      <td>19.2</td>\n",
       "    </tr>\n",
       "    <tr>\n",
       "      <th>2</th>\n",
       "      <td>Arizona</td>\n",
       "      <td>20.3</td>\n",
       "    </tr>\n",
       "    <tr>\n",
       "      <th>3</th>\n",
       "      <td>Arkansas</td>\n",
       "      <td>19.0</td>\n",
       "    </tr>\n",
       "    <tr>\n",
       "      <th>4</th>\n",
       "      <td>California</td>\n",
       "      <td>26.3</td>\n",
       "    </tr>\n",
       "  </tbody>\n",
       "</table>\n",
       "</div>"
      ],
      "text/plain": [
       "        state grad_100_value\n",
       "0     Alabama           16.8\n",
       "1      Alaska           19.2\n",
       "2     Arizona           20.3\n",
       "3    Arkansas           19.0\n",
       "4  California           26.3"
      ]
     },
     "execution_count": 6,
     "metadata": {},
     "output_type": "execute_result"
    }
   ],
   "source": [
    "df.head()"
   ]
  },
  {
   "cell_type": "code",
   "execution_count": 7,
   "metadata": {
    "scrolled": false
   },
   "outputs": [
    {
     "data": {
      "application/vnd.plotly.v1+json": {
       "data": [
        {
         "type": "bar",
         "x": [
          "Alabama",
          "Alaska",
          "Arizona",
          "Arkansas",
          "California",
          "Colorado",
          "Connecticut",
          "Delaware",
          "District of Columbia",
          "Florida",
          "Georgia",
          "Hawaii",
          "Idaho",
          "Illinois",
          "Indiana",
          "Iowa",
          "Kansas",
          "Kentucky",
          "Louisiana",
          "Maine",
          "Maryland",
          "Massachusetts",
          "Michigan",
          "Minnesota",
          "Mississippi",
          "Missouri",
          "Montana",
          "Nebraska",
          "Nevada",
          "New Hampshire",
          "New Jersey",
          "New Mexico",
          "New York",
          "North Carolina",
          "North Dakota",
          "Ohio",
          "Oklahoma",
          "Oregon",
          "Pennsylvania",
          "Rhode Island",
          "South Carolina",
          "South Dakota",
          "Tennessee",
          "Texas",
          "Utah",
          "Vermont",
          "Virginia",
          "Washington",
          "West Virginia",
          "Wisconsin",
          "Wyoming"
         ],
         "y": [
          "16.8",
          "19.2",
          "20.3",
          "19.0",
          "26.3",
          "28.4",
          "31.5",
          "33.0",
          "39.7",
          "33.5",
          "22.3",
          "14.7",
          "17.6",
          "28.9",
          "31.7",
          "36.2",
          "30.8",
          "22.9",
          "24.7",
          "32.7",
          "24.4",
          "43.3",
          "17.1",
          "30.7",
          "22.8",
          "32.7",
          "17.8",
          "28.6",
          "19.7",
          "34.6",
          "28.2",
          "10.9",
          "33.3",
          "23.7",
          "23.4",
          "27.3",
          "22.5",
          "25.0",
          "42.4",
          "53.0",
          "26.5",
          "24.1",
          "28.5",
          "21.3",
          "27.4",
          "35.2",
          "32.3",
          "29.6",
          "25.7",
          "31.2",
          "26.5"
         ]
        }
       ],
       "layout": {
        "title": "Average graduation rate for each state in the U.S. ",
        "yaxis": {
         "title": "Average graduation rate",
         "titlefont": {
          "color": "#7f7f7f",
          "family": "Courier New, monospace",
          "size": 18
         }
        }
       }
      },
      "text/html": [
       "<div id=\"f91523a6-0ce0-447b-a4c3-6514d284ef83\" style=\"height: 525px; width: 100%;\" class=\"plotly-graph-div\"></div><script type=\"text/javascript\">require([\"plotly\"], function(Plotly) { window.PLOTLYENV=window.PLOTLYENV || {};window.PLOTLYENV.BASE_URL=\"https://plot.ly\";Plotly.newPlot(\"f91523a6-0ce0-447b-a4c3-6514d284ef83\", [{\"type\": \"bar\", \"x\": [\"Alabama\", \"Alaska\", \"Arizona\", \"Arkansas\", \"California\", \"Colorado\", \"Connecticut\", \"Delaware\", \"District of Columbia\", \"Florida\", \"Georgia\", \"Hawaii\", \"Idaho\", \"Illinois\", \"Indiana\", \"Iowa\", \"Kansas\", \"Kentucky\", \"Louisiana\", \"Maine\", \"Maryland\", \"Massachusetts\", \"Michigan\", \"Minnesota\", \"Mississippi\", \"Missouri\", \"Montana\", \"Nebraska\", \"Nevada\", \"New Hampshire\", \"New Jersey\", \"New Mexico\", \"New York\", \"North Carolina\", \"North Dakota\", \"Ohio\", \"Oklahoma\", \"Oregon\", \"Pennsylvania\", \"Rhode Island\", \"South Carolina\", \"South Dakota\", \"Tennessee\", \"Texas\", \"Utah\", \"Vermont\", \"Virginia\", \"Washington\", \"West Virginia\", \"Wisconsin\", \"Wyoming\"], \"y\": [\"16.8\", \"19.2\", \"20.3\", \"19.0\", \"26.3\", \"28.4\", \"31.5\", \"33.0\", \"39.7\", \"33.5\", \"22.3\", \"14.7\", \"17.6\", \"28.9\", \"31.7\", \"36.2\", \"30.8\", \"22.9\", \"24.7\", \"32.7\", \"24.4\", \"43.3\", \"17.1\", \"30.7\", \"22.8\", \"32.7\", \"17.8\", \"28.6\", \"19.7\", \"34.6\", \"28.2\", \"10.9\", \"33.3\", \"23.7\", \"23.4\", \"27.3\", \"22.5\", \"25.0\", \"42.4\", \"53.0\", \"26.5\", \"24.1\", \"28.5\", \"21.3\", \"27.4\", \"35.2\", \"32.3\", \"29.6\", \"25.7\", \"31.2\", \"26.5\"]}], {\"title\": \"Average graduation rate for each state in the U.S. \", \"yaxis\": {\"title\": \"Average graduation rate\", \"titlefont\": {\"family\": \"Courier New, monospace\", \"size\": 18, \"color\": \"#7f7f7f\"}}}, {\"showLink\": true, \"linkText\": \"Export to plot.ly\"})});</script>"
      ],
      "text/vnd.plotly.v1+html": [
       "<div id=\"f91523a6-0ce0-447b-a4c3-6514d284ef83\" style=\"height: 525px; width: 100%;\" class=\"plotly-graph-div\"></div><script type=\"text/javascript\">require([\"plotly\"], function(Plotly) { window.PLOTLYENV=window.PLOTLYENV || {};window.PLOTLYENV.BASE_URL=\"https://plot.ly\";Plotly.newPlot(\"f91523a6-0ce0-447b-a4c3-6514d284ef83\", [{\"type\": \"bar\", \"x\": [\"Alabama\", \"Alaska\", \"Arizona\", \"Arkansas\", \"California\", \"Colorado\", \"Connecticut\", \"Delaware\", \"District of Columbia\", \"Florida\", \"Georgia\", \"Hawaii\", \"Idaho\", \"Illinois\", \"Indiana\", \"Iowa\", \"Kansas\", \"Kentucky\", \"Louisiana\", \"Maine\", \"Maryland\", \"Massachusetts\", \"Michigan\", \"Minnesota\", \"Mississippi\", \"Missouri\", \"Montana\", \"Nebraska\", \"Nevada\", \"New Hampshire\", \"New Jersey\", \"New Mexico\", \"New York\", \"North Carolina\", \"North Dakota\", \"Ohio\", \"Oklahoma\", \"Oregon\", \"Pennsylvania\", \"Rhode Island\", \"South Carolina\", \"South Dakota\", \"Tennessee\", \"Texas\", \"Utah\", \"Vermont\", \"Virginia\", \"Washington\", \"West Virginia\", \"Wisconsin\", \"Wyoming\"], \"y\": [\"16.8\", \"19.2\", \"20.3\", \"19.0\", \"26.3\", \"28.4\", \"31.5\", \"33.0\", \"39.7\", \"33.5\", \"22.3\", \"14.7\", \"17.6\", \"28.9\", \"31.7\", \"36.2\", \"30.8\", \"22.9\", \"24.7\", \"32.7\", \"24.4\", \"43.3\", \"17.1\", \"30.7\", \"22.8\", \"32.7\", \"17.8\", \"28.6\", \"19.7\", \"34.6\", \"28.2\", \"10.9\", \"33.3\", \"23.7\", \"23.4\", \"27.3\", \"22.5\", \"25.0\", \"42.4\", \"53.0\", \"26.5\", \"24.1\", \"28.5\", \"21.3\", \"27.4\", \"35.2\", \"32.3\", \"29.6\", \"25.7\", \"31.2\", \"26.5\"]}], {\"title\": \"Average graduation rate for each state in the U.S. \", \"yaxis\": {\"title\": \"Average graduation rate\", \"titlefont\": {\"family\": \"Courier New, monospace\", \"size\": 18, \"color\": \"#7f7f7f\"}}}, {\"showLink\": true, \"linkText\": \"Export to plot.ly\"})});</script>"
      ]
     },
     "metadata": {},
     "output_type": "display_data"
    }
   ],
   "source": [
    "data1 = [go.Bar(\n",
    "            x= df['state'],\n",
    "            y= df['grad_100_value']\n",
    "    )]\n",
    "layout = go.Layout(\n",
    "    title='Average graduation rate for each state in the U.S. ',\n",
    "   \n",
    "    yaxis=dict(\n",
    "        title='Average graduation rate',\n",
    "        titlefont=dict(\n",
    "            family='Courier New, monospace',\n",
    "            size=18,\n",
    "            color='#7f7f7f'\n",
    "        )\n",
    "    )\n",
    ")\n",
    "fig = go.Figure(data=data1, layout=layout)\n",
    "iplot(fig)\n",
    "#plotly.offline.plot(data1, layout = layout, filename='grad_rate_bar')"
   ]
  },
  {
   "cell_type": "markdown",
   "metadata": {},
   "source": [
    "The above plot shows the variation of average graduation rate across each state in the U.S. "
   ]
  },
  {
   "cell_type": "code",
   "execution_count": 8,
   "metadata": {},
   "outputs": [],
   "source": [
    "state = {\n",
    "    'Alabama': 'AL',\n",
    "    'Alaska': 'AK',\n",
    "    'Arizona': 'AZ',\n",
    "    'Arkansas': 'AR',\n",
    "    'California': 'CA',\n",
    "    'Colorado': 'CO',\n",
    "    'Connecticut': 'CT',\n",
    "    'Delaware': 'DE',\n",
    "    'Florida': 'FL',\n",
    "    'Georgia': 'GA',\n",
    "    'Hawaii': 'HI',\n",
    "    'Idaho': 'ID',\n",
    "    'Illinois': 'IL',\n",
    "    'Indiana': 'IN',\n",
    "    'Iowa': 'IA',\n",
    "    'Kansas': 'KS',\n",
    "    'Kentucky': 'KY',\n",
    "    'Louisiana': 'LA',\n",
    "    'Maine': 'ME',\n",
    "    'Maryland': 'MD',\n",
    "    'Massachusetts': 'MA',\n",
    "    'Michigan': 'MI',\n",
    "    'Minnesota': 'MN',\n",
    "    'Mississippi': 'MS',\n",
    "    'Missouri': 'MO',\n",
    "    'Montana': 'MT',\n",
    "    'Nebraska': 'NE',\n",
    "    'Nevada': 'NV',\n",
    "    'New Hampshire': 'NH',\n",
    "    'New Jersey': 'NJ',\n",
    "    'New Mexico': 'NM',\n",
    "    'New York': 'NY',\n",
    "    'North Carolina': 'NC',\n",
    "    'North Dakota': 'ND',\n",
    "    'Ohio': 'OH',\n",
    "    'Oklahoma': 'OK',\n",
    "    'Oregon': 'OR',\n",
    "    'Pennsylvania': 'PA',\n",
    "    'Rhode Island': 'RI',\n",
    "    'South Carolina': 'SC',\n",
    "    'South Dakota': 'SD',\n",
    "    'Tennessee': 'TN',\n",
    "    'Texas': 'TX',\n",
    "    'Utah': 'UT',\n",
    "    'Vermont': 'VT',\n",
    "    'Virginia': 'VA',\n",
    "    'Washington': 'WA',\n",
    "    'West Virginia': 'WV',\n",
    "    'Wisconsin': 'WI',\n",
    "    'Wyoming': 'WY',\n",
    "}"
   ]
  },
  {
   "cell_type": "markdown",
   "metadata": {},
   "source": [
    "The above is needed to make a map for the visualization."
   ]
  },
  {
   "cell_type": "code",
   "execution_count": 9,
   "metadata": {},
   "outputs": [
    {
     "data": {
      "text/plain": [
       "array(['AL', 'AK', 'AZ', 'AR', 'CA', 'CO', 'CT', 'DE', 'VA', 'FL', 'GA',\n",
       "       'HI', 'ID', 'IL', 'IN', 'IA', 'KS', 'KY', 'LA', 'ME', 'MD', 'MA',\n",
       "       'MI', 'MN', 'MS', 'MO', 'MT', 'NE', 'NV', 'NH', 'NJ', 'NM', 'NY',\n",
       "       'NC', 'ND', 'OH', 'OK', 'OR', 'PA', 'RI', 'SC', 'SD', 'TN', 'TX',\n",
       "       'UT', 'VT', 'WA', 'WV', 'WI', 'WY'], dtype=object)"
      ]
     },
     "execution_count": 9,
     "metadata": {},
     "output_type": "execute_result"
    }
   ],
   "source": [
    "df['state'] = ['Virginia' if x == 'District of Columbia' else x for x in df['state']]\n",
    "df['code'] = [state[x] for x in df['state']]\n",
    "df['code'].unique()"
   ]
  },
  {
   "cell_type": "markdown",
   "metadata": {},
   "source": [
    "For now we added the District of Columbia to Virgina since there is no way to add it to plotly's map and it is the closest state. This may be a problem later."
   ]
  },
  {
   "cell_type": "code",
   "execution_count": 10,
   "metadata": {},
   "outputs": [],
   "source": [
    "for col in df.columns:\n",
    "    df[col] = df[col].astype(str)"
   ]
  },
  {
   "cell_type": "code",
   "execution_count": 11,
   "metadata": {},
   "outputs": [
    {
     "data": {
      "application/vnd.plotly.v1+json": {
       "data": [
        {
         "autocolorscale": false,
         "colorbar": {
          "title": "Percentage"
         },
         "colorscale": [
          [
           0,
           "rgb(242,240,247)"
          ],
          [
           0.2,
           "rgb(218,218,235)"
          ],
          [
           0.4,
           "rgb(188,189,220)"
          ],
          [
           0.6,
           "rgb(158,154,200)"
          ],
          [
           0.8,
           "rgb(117,107,177)"
          ],
          [
           1,
           "rgb(84,39,143)"
          ]
         ],
         "locationmode": "USA-states",
         "locations": [
          "AL",
          "AK",
          "AZ",
          "AR",
          "CA",
          "CO",
          "CT",
          "DE",
          "VA",
          "FL",
          "GA",
          "HI",
          "ID",
          "IL",
          "IN",
          "IA",
          "KS",
          "KY",
          "LA",
          "ME",
          "MD",
          "MA",
          "MI",
          "MN",
          "MS",
          "MO",
          "MT",
          "NE",
          "NV",
          "NH",
          "NJ",
          "NM",
          "NY",
          "NC",
          "ND",
          "OH",
          "OK",
          "OR",
          "PA",
          "RI",
          "SC",
          "SD",
          "TN",
          "TX",
          "UT",
          "VT",
          "VA",
          "WA",
          "WV",
          "WI",
          "WY"
         ],
         "marker": {
          "line": {
           "color": "rgb(255,255,255)",
           "width": 2
          }
         },
         "text": [
          "Alabama<br>Graduation Rate 16.8%",
          "Alaska<br>Graduation Rate 19.2%",
          "Arizona<br>Graduation Rate 20.3%",
          "Arkansas<br>Graduation Rate 19.0%",
          "California<br>Graduation Rate 26.3%",
          "Colorado<br>Graduation Rate 28.4%",
          "Connecticut<br>Graduation Rate 31.5%",
          "Delaware<br>Graduation Rate 33.0%",
          "Virginia<br>Graduation Rate 39.7%",
          "Florida<br>Graduation Rate 33.5%",
          "Georgia<br>Graduation Rate 22.3%",
          "Hawaii<br>Graduation Rate 14.7%",
          "Idaho<br>Graduation Rate 17.6%",
          "Illinois<br>Graduation Rate 28.9%",
          "Indiana<br>Graduation Rate 31.7%",
          "Iowa<br>Graduation Rate 36.2%",
          "Kansas<br>Graduation Rate 30.8%",
          "Kentucky<br>Graduation Rate 22.9%",
          "Louisiana<br>Graduation Rate 24.7%",
          "Maine<br>Graduation Rate 32.7%",
          "Maryland<br>Graduation Rate 24.4%",
          "Massachusetts<br>Graduation Rate 43.3%",
          "Michigan<br>Graduation Rate 17.1%",
          "Minnesota<br>Graduation Rate 30.7%",
          "Mississippi<br>Graduation Rate 22.8%",
          "Missouri<br>Graduation Rate 32.7%",
          "Montana<br>Graduation Rate 17.8%",
          "Nebraska<br>Graduation Rate 28.6%",
          "Nevada<br>Graduation Rate 19.7%",
          "New Hampshire<br>Graduation Rate 34.6%",
          "New Jersey<br>Graduation Rate 28.2%",
          "New Mexico<br>Graduation Rate 10.9%",
          "New York<br>Graduation Rate 33.3%",
          "North Carolina<br>Graduation Rate 23.7%",
          "North Dakota<br>Graduation Rate 23.4%",
          "Ohio<br>Graduation Rate 27.3%",
          "Oklahoma<br>Graduation Rate 22.5%",
          "Oregon<br>Graduation Rate 25.0%",
          "Pennsylvania<br>Graduation Rate 42.4%",
          "Rhode Island<br>Graduation Rate 53.0%",
          "South Carolina<br>Graduation Rate 26.5%",
          "South Dakota<br>Graduation Rate 24.1%",
          "Tennessee<br>Graduation Rate 28.5%",
          "Texas<br>Graduation Rate 21.3%",
          "Utah<br>Graduation Rate 27.4%",
          "Vermont<br>Graduation Rate 35.2%",
          "Virginia<br>Graduation Rate 32.3%",
          "Washington<br>Graduation Rate 29.6%",
          "West Virginia<br>Graduation Rate 25.7%",
          "Wisconsin<br>Graduation Rate 31.2%",
          "Wyoming<br>Graduation Rate 26.5%"
         ],
         "type": "choropleth",
         "z": [
          16.8,
          19.2,
          20.3,
          19,
          26.3,
          28.4,
          31.5,
          33,
          39.7,
          33.5,
          22.3,
          14.7,
          17.6,
          28.9,
          31.7,
          36.2,
          30.8,
          22.9,
          24.7,
          32.7,
          24.4,
          43.3,
          17.1,
          30.7,
          22.8,
          32.7,
          17.8,
          28.6,
          19.7,
          34.6,
          28.2,
          10.9,
          33.3,
          23.7,
          23.4,
          27.3,
          22.5,
          25,
          42.4,
          53,
          26.5,
          24.1,
          28.5,
          21.3,
          27.4,
          35.2,
          32.3,
          29.6,
          25.7,
          31.2,
          26.5
         ]
        }
       ],
       "layout": {
        "geo": {
         "lakecolor": "rgb(255, 255, 255)",
         "projection": {
          "type": "albers usa"
         },
         "scope": "usa",
         "showlakes": true
        },
        "title": "Graduation rates by State<br>(Hover for breakdown)"
       }
      },
      "text/html": [
       "<div id=\"34b1b47b-49ec-4d0f-b3ab-57cb0ee679dd\" style=\"height: 525px; width: 100%;\" class=\"plotly-graph-div\"></div><script type=\"text/javascript\">require([\"plotly\"], function(Plotly) { window.PLOTLYENV=window.PLOTLYENV || {};window.PLOTLYENV.BASE_URL=\"https://plot.ly\";Plotly.newPlot(\"34b1b47b-49ec-4d0f-b3ab-57cb0ee679dd\", [{\"type\": \"choropleth\", \"colorscale\": [[0.0, \"rgb(242,240,247)\"], [0.2, \"rgb(218,218,235)\"], [0.4, \"rgb(188,189,220)\"], [0.6, \"rgb(158,154,200)\"], [0.8, \"rgb(117,107,177)\"], [1.0, \"rgb(84,39,143)\"]], \"autocolorscale\": false, \"locations\": [\"AL\", \"AK\", \"AZ\", \"AR\", \"CA\", \"CO\", \"CT\", \"DE\", \"VA\", \"FL\", \"GA\", \"HI\", \"ID\", \"IL\", \"IN\", \"IA\", \"KS\", \"KY\", \"LA\", \"ME\", \"MD\", \"MA\", \"MI\", \"MN\", \"MS\", \"MO\", \"MT\", \"NE\", \"NV\", \"NH\", \"NJ\", \"NM\", \"NY\", \"NC\", \"ND\", \"OH\", \"OK\", \"OR\", \"PA\", \"RI\", \"SC\", \"SD\", \"TN\", \"TX\", \"UT\", \"VT\", \"VA\", \"WA\", \"WV\", \"WI\", \"WY\"], \"z\": [16.8, 19.2, 20.3, 19.0, 26.3, 28.4, 31.5, 33.0, 39.7, 33.5, 22.3, 14.7, 17.6, 28.9, 31.7, 36.2, 30.8, 22.9, 24.7, 32.7, 24.4, 43.3, 17.1, 30.7, 22.8, 32.7, 17.8, 28.6, 19.7, 34.6, 28.2, 10.9, 33.3, 23.7, 23.4, 27.3, 22.5, 25.0, 42.4, 53.0, 26.5, 24.1, 28.5, 21.3, 27.4, 35.2, 32.3, 29.6, 25.7, 31.2, 26.5], \"locationmode\": \"USA-states\", \"text\": [\"Alabama<br>Graduation Rate 16.8%\", \"Alaska<br>Graduation Rate 19.2%\", \"Arizona<br>Graduation Rate 20.3%\", \"Arkansas<br>Graduation Rate 19.0%\", \"California<br>Graduation Rate 26.3%\", \"Colorado<br>Graduation Rate 28.4%\", \"Connecticut<br>Graduation Rate 31.5%\", \"Delaware<br>Graduation Rate 33.0%\", \"Virginia<br>Graduation Rate 39.7%\", \"Florida<br>Graduation Rate 33.5%\", \"Georgia<br>Graduation Rate 22.3%\", \"Hawaii<br>Graduation Rate 14.7%\", \"Idaho<br>Graduation Rate 17.6%\", \"Illinois<br>Graduation Rate 28.9%\", \"Indiana<br>Graduation Rate 31.7%\", \"Iowa<br>Graduation Rate 36.2%\", \"Kansas<br>Graduation Rate 30.8%\", \"Kentucky<br>Graduation Rate 22.9%\", \"Louisiana<br>Graduation Rate 24.7%\", \"Maine<br>Graduation Rate 32.7%\", \"Maryland<br>Graduation Rate 24.4%\", \"Massachusetts<br>Graduation Rate 43.3%\", \"Michigan<br>Graduation Rate 17.1%\", \"Minnesota<br>Graduation Rate 30.7%\", \"Mississippi<br>Graduation Rate 22.8%\", \"Missouri<br>Graduation Rate 32.7%\", \"Montana<br>Graduation Rate 17.8%\", \"Nebraska<br>Graduation Rate 28.6%\", \"Nevada<br>Graduation Rate 19.7%\", \"New Hampshire<br>Graduation Rate 34.6%\", \"New Jersey<br>Graduation Rate 28.2%\", \"New Mexico<br>Graduation Rate 10.9%\", \"New York<br>Graduation Rate 33.3%\", \"North Carolina<br>Graduation Rate 23.7%\", \"North Dakota<br>Graduation Rate 23.4%\", \"Ohio<br>Graduation Rate 27.3%\", \"Oklahoma<br>Graduation Rate 22.5%\", \"Oregon<br>Graduation Rate 25.0%\", \"Pennsylvania<br>Graduation Rate 42.4%\", \"Rhode Island<br>Graduation Rate 53.0%\", \"South Carolina<br>Graduation Rate 26.5%\", \"South Dakota<br>Graduation Rate 24.1%\", \"Tennessee<br>Graduation Rate 28.5%\", \"Texas<br>Graduation Rate 21.3%\", \"Utah<br>Graduation Rate 27.4%\", \"Vermont<br>Graduation Rate 35.2%\", \"Virginia<br>Graduation Rate 32.3%\", \"Washington<br>Graduation Rate 29.6%\", \"West Virginia<br>Graduation Rate 25.7%\", \"Wisconsin<br>Graduation Rate 31.2%\", \"Wyoming<br>Graduation Rate 26.5%\"], \"marker\": {\"line\": {\"color\": \"rgb(255,255,255)\", \"width\": 2}}, \"colorbar\": {\"title\": \"Percentage\"}}], {\"title\": \"Graduation rates by State<br>(Hover for breakdown)\", \"geo\": {\"scope\": \"usa\", \"projection\": {\"type\": \"albers usa\"}, \"showlakes\": true, \"lakecolor\": \"rgb(255, 255, 255)\"}}, {\"showLink\": true, \"linkText\": \"Export to plot.ly\"})});</script>"
      ],
      "text/vnd.plotly.v1+html": [
       "<div id=\"34b1b47b-49ec-4d0f-b3ab-57cb0ee679dd\" style=\"height: 525px; width: 100%;\" class=\"plotly-graph-div\"></div><script type=\"text/javascript\">require([\"plotly\"], function(Plotly) { window.PLOTLYENV=window.PLOTLYENV || {};window.PLOTLYENV.BASE_URL=\"https://plot.ly\";Plotly.newPlot(\"34b1b47b-49ec-4d0f-b3ab-57cb0ee679dd\", [{\"type\": \"choropleth\", \"colorscale\": [[0.0, \"rgb(242,240,247)\"], [0.2, \"rgb(218,218,235)\"], [0.4, \"rgb(188,189,220)\"], [0.6, \"rgb(158,154,200)\"], [0.8, \"rgb(117,107,177)\"], [1.0, \"rgb(84,39,143)\"]], \"autocolorscale\": false, \"locations\": [\"AL\", \"AK\", \"AZ\", \"AR\", \"CA\", \"CO\", \"CT\", \"DE\", \"VA\", \"FL\", \"GA\", \"HI\", \"ID\", \"IL\", \"IN\", \"IA\", \"KS\", \"KY\", \"LA\", \"ME\", \"MD\", \"MA\", \"MI\", \"MN\", \"MS\", \"MO\", \"MT\", \"NE\", \"NV\", \"NH\", \"NJ\", \"NM\", \"NY\", \"NC\", \"ND\", \"OH\", \"OK\", \"OR\", \"PA\", \"RI\", \"SC\", \"SD\", \"TN\", \"TX\", \"UT\", \"VT\", \"VA\", \"WA\", \"WV\", \"WI\", \"WY\"], \"z\": [16.8, 19.2, 20.3, 19.0, 26.3, 28.4, 31.5, 33.0, 39.7, 33.5, 22.3, 14.7, 17.6, 28.9, 31.7, 36.2, 30.8, 22.9, 24.7, 32.7, 24.4, 43.3, 17.1, 30.7, 22.8, 32.7, 17.8, 28.6, 19.7, 34.6, 28.2, 10.9, 33.3, 23.7, 23.4, 27.3, 22.5, 25.0, 42.4, 53.0, 26.5, 24.1, 28.5, 21.3, 27.4, 35.2, 32.3, 29.6, 25.7, 31.2, 26.5], \"locationmode\": \"USA-states\", \"text\": [\"Alabama<br>Graduation Rate 16.8%\", \"Alaska<br>Graduation Rate 19.2%\", \"Arizona<br>Graduation Rate 20.3%\", \"Arkansas<br>Graduation Rate 19.0%\", \"California<br>Graduation Rate 26.3%\", \"Colorado<br>Graduation Rate 28.4%\", \"Connecticut<br>Graduation Rate 31.5%\", \"Delaware<br>Graduation Rate 33.0%\", \"Virginia<br>Graduation Rate 39.7%\", \"Florida<br>Graduation Rate 33.5%\", \"Georgia<br>Graduation Rate 22.3%\", \"Hawaii<br>Graduation Rate 14.7%\", \"Idaho<br>Graduation Rate 17.6%\", \"Illinois<br>Graduation Rate 28.9%\", \"Indiana<br>Graduation Rate 31.7%\", \"Iowa<br>Graduation Rate 36.2%\", \"Kansas<br>Graduation Rate 30.8%\", \"Kentucky<br>Graduation Rate 22.9%\", \"Louisiana<br>Graduation Rate 24.7%\", \"Maine<br>Graduation Rate 32.7%\", \"Maryland<br>Graduation Rate 24.4%\", \"Massachusetts<br>Graduation Rate 43.3%\", \"Michigan<br>Graduation Rate 17.1%\", \"Minnesota<br>Graduation Rate 30.7%\", \"Mississippi<br>Graduation Rate 22.8%\", \"Missouri<br>Graduation Rate 32.7%\", \"Montana<br>Graduation Rate 17.8%\", \"Nebraska<br>Graduation Rate 28.6%\", \"Nevada<br>Graduation Rate 19.7%\", \"New Hampshire<br>Graduation Rate 34.6%\", \"New Jersey<br>Graduation Rate 28.2%\", \"New Mexico<br>Graduation Rate 10.9%\", \"New York<br>Graduation Rate 33.3%\", \"North Carolina<br>Graduation Rate 23.7%\", \"North Dakota<br>Graduation Rate 23.4%\", \"Ohio<br>Graduation Rate 27.3%\", \"Oklahoma<br>Graduation Rate 22.5%\", \"Oregon<br>Graduation Rate 25.0%\", \"Pennsylvania<br>Graduation Rate 42.4%\", \"Rhode Island<br>Graduation Rate 53.0%\", \"South Carolina<br>Graduation Rate 26.5%\", \"South Dakota<br>Graduation Rate 24.1%\", \"Tennessee<br>Graduation Rate 28.5%\", \"Texas<br>Graduation Rate 21.3%\", \"Utah<br>Graduation Rate 27.4%\", \"Vermont<br>Graduation Rate 35.2%\", \"Virginia<br>Graduation Rate 32.3%\", \"Washington<br>Graduation Rate 29.6%\", \"West Virginia<br>Graduation Rate 25.7%\", \"Wisconsin<br>Graduation Rate 31.2%\", \"Wyoming<br>Graduation Rate 26.5%\"], \"marker\": {\"line\": {\"color\": \"rgb(255,255,255)\", \"width\": 2}}, \"colorbar\": {\"title\": \"Percentage\"}}], {\"title\": \"Graduation rates by State<br>(Hover for breakdown)\", \"geo\": {\"scope\": \"usa\", \"projection\": {\"type\": \"albers usa\"}, \"showlakes\": true, \"lakecolor\": \"rgb(255, 255, 255)\"}}, {\"showLink\": true, \"linkText\": \"Export to plot.ly\"})});</script>"
      ]
     },
     "metadata": {},
     "output_type": "display_data"
    }
   ],
   "source": [
    "scl = [[0.0, 'rgb(242,240,247)'],[0.2, 'rgb(218,218,235)'],[0.4, 'rgb(188,189,220)'],\\\n",
    "            [0.6, 'rgb(158,154,200)'],[0.8, 'rgb(117,107,177)'],[1.0, 'rgb(84,39,143)']]\n",
    "df['text'] = df['state'] + '<br>' +'Graduation Rate '+df['grad_100_value']+'%'\n",
    "\n",
    "data = [ dict(\n",
    "        type='choropleth',\n",
    "        colorscale = scl,\n",
    "        autocolorscale = False,\n",
    "        locations = df['code'],\n",
    "        z = df['grad_100_value'].astype(float),\n",
    "        locationmode = 'USA-states',\n",
    "        text = df['text'],\n",
    "        marker = dict(\n",
    "            line = dict (\n",
    "                color = 'rgb(255,255,255)',\n",
    "                width = 2\n",
    "            ) ),\n",
    "        colorbar = dict(\n",
    "            title = \"Percentage\")\n",
    "        ) ]\n",
    "\n",
    "layout = dict(\n",
    "        title = 'Graduation rates by State<br>(Hover for breakdown)',\n",
    "        geo = dict(\n",
    "            scope='usa',\n",
    "            projection=dict( type='albers usa' ),\n",
    "            showlakes = True,\n",
    "            lakecolor = 'rgb(255, 255, 255)'),\n",
    "             )\n",
    "    \n",
    "fig = dict( data=data, layout=layout )\n",
    "#py.iplot( fig, filename='d3-cloropleth-map' )\n",
    "#plotly.offline.plot(fig, filename='ch.html')\n",
    "iplot(fig)"
   ]
  },
  {
   "cell_type": "markdown",
   "metadata": {},
   "source": [
    "The above interactive choropleth heatmap shows variation of average graduation rates for all the states in the U.S. Hovering over any state gives the value of average graduation rate for the institutions in that state."
   ]
  },
  {
   "cell_type": "code",
   "execution_count": null,
   "metadata": {},
   "outputs": [],
   "source": []
  }
 ],
 "metadata": {
  "kernelspec": {
   "display_name": "Python 3",
   "language": "python",
   "name": "python3"
  },
  "language_info": {
   "codemirror_mode": {
    "name": "ipython",
    "version": 3
   },
   "file_extension": ".py",
   "mimetype": "text/x-python",
   "name": "python",
   "nbconvert_exporter": "python",
   "pygments_lexer": "ipython3",
   "version": "3.6.4"
  }
 },
 "nbformat": 4,
 "nbformat_minor": 2
}
